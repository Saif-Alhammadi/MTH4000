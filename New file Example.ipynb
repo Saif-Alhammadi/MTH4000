This is my new file guys 

{
 "cells": [],
 "metadata": {},
 "nbformat": 4,
 "nbformat_minor": 5
}
